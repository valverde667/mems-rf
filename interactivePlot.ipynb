{
 "cells": [
  {
   "cell_type": "code",
   "execution_count": 2,
   "metadata": {},
   "outputs": [
    {
     "data": {
      "application/vnd.jupyter.widget-view+json": {
       "model_id": "d6d833fc41a14ee9a9f42e3973e278a4",
       "version_major": 2,
       "version_minor": 0
      },
      "text/plain": [
       "interactive(children=(IntSlider(value=30, description='num_RF', max=90, min=-30), FloatSlider(value=20000000.0…"
      ]
     },
     "metadata": {},
     "output_type": "display_data"
    }
   ],
   "source": [
    "from ipywidgets import interact, interactive, fixed, interact_manual\n",
    "import ipywidgets as widgets\n",
    "from IPython.display import display\n",
    "import matplotlib.pyplot as plt\n",
    "import numpy as np\n",
    "\n",
    "fun_charge = 1.601e-19\n",
    "amu = 1.66056e-27\n",
    "\n",
    "def distances(num_RF, freq, V_max, V_gained, e_inject, mass, charge):\n",
    "    #find energies after each RF gap\n",
    "    energies = [e_inject+charge*V_gained*V_max*i for i in range(num_RF)]\n",
    "\n",
    "    #find distances between RF gaps\n",
    "    distances = []\n",
    "    for energy in energies:\n",
    "        distances.append(np.sqrt(energy*charge*fun_charge/(2*mass*amu))*1/freq)\n",
    "\n",
    "    return [energies, distances]\n",
    "\n",
    "def draw_latice(num_RF, freq, V_max, V_gained, e_inject, mass, charge, mass2, charge2, n):\n",
    "    #draw the energy and RF gap position\n",
    "    d_and_e = distances(num_RF, freq, V_max, V_gained, e_inject, mass, charge)\n",
    "\n",
    "    t_offset = np.arcsin(V_gained)/(2*np.pi*freq*n)-d_and_e[1][0]/np.sqrt(2*e_inject*charge*fun_charge/(mass*amu))\n",
    "    energies2 = species_2_energies(d_and_e[1], freq, V_max, e_inject, mass2, charge2, t_offset, n)\n",
    "    energies2 = energies2[0:-1]\n",
    "\n",
    "    total_distances = np.cumsum(d_and_e[1])\n",
    "    total_distances = np.append([0],total_distances[0:-1])\n",
    "    energies = d_and_e[0]\n",
    "\n",
    "#     print('distances:',total_distances)\n",
    "#     print('energies:',energies)\n",
    "#     print('energies2:',energies2)\n",
    "\n",
    "    plt.step(total_distances, energies, color='green', where='post')\n",
    "    plt.step(total_distances, energies2, color='red', where='post')\n",
    "\n",
    "    plt.show()\n",
    "\n",
    "def species_2_energies(distances, freq, V_max, e_inject, mass, charge, t_offset, n):\n",
    "    energies = [e_inject]\n",
    "    energy = e_inject\n",
    "    time = 0\n",
    "    for d, i in zip(distances, range(len(distances))):\n",
    "        velocity = np.sqrt(2*energy*fun_charge/(mass*amu))\n",
    "        time = time + d/velocity\n",
    "        energy = energy+(charge*V_max*np.sin(2*np.pi*freq*n*(time+t_offset)))*(-1)**(i)\n",
    "        energies.append(energy)\n",
    "    return energies\n",
    "\n",
    "drawing = interact(draw_latice, num_RF=30, freq=20e6, V_max=1000, V_gained=.8, e_inject=20e3, mass=20, charge=1, mass2=20, charge2=1, n=1)\n"
   ]
  },
  {
   "cell_type": "code",
   "execution_count": null,
   "metadata": {},
   "outputs": [],
   "source": []
  }
 ],
 "metadata": {
  "kernelspec": {
   "display_name": "Python 3",
   "language": "python",
   "name": "python3"
  },
  "language_info": {
   "codemirror_mode": {
    "name": "ipython",
    "version": 3
   },
   "file_extension": ".py",
   "mimetype": "text/x-python",
   "name": "python",
   "nbconvert_exporter": "python",
   "pygments_lexer": "ipython3",
   "version": "3.6.5"
  }
 },
 "nbformat": 4,
 "nbformat_minor": 2
}
