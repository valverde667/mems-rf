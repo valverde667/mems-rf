{
 "cells": [
  {
   "cell_type": "code",
   "execution_count": 1,
   "id": "fitted-donor",
   "metadata": {},
   "outputs": [],
   "source": [
    "import numpy as np\n",
    "import sympy as sy\n",
    "import matplotlib.pyplot as plt "
   ]
  },
  {
   "cell_type": "code",
   "execution_count": 80,
   "id": "polar-flour",
   "metadata": {},
   "outputs": [],
   "source": [
    "# Create symbols \n",
    "long_drift = sy.symbols('L')\n",
    "short_drift = sy.symbols('ell')\n",
    "focus = sy.symbols('1/f')"
   ]
  },
  {
   "cell_type": "code",
   "execution_count": 81,
   "id": "worldwide-terrorist",
   "metadata": {},
   "outputs": [],
   "source": [
    "# Construct transfer matrices\n",
    "Drift_long = sy.Matrix([[1, long_drift],[0,1]])\n",
    "Drift_short = sy.Matrix([[1, short_drift], [0,1]])\n",
    "MF = sy.Matrix([[1, 0], [-focus, 1]])\n",
    "MD = sy.Matrix([[1, 0], [focus, 1]])"
   ]
  },
  {
   "cell_type": "code",
   "execution_count": 82,
   "id": "functioning-british",
   "metadata": {},
   "outputs": [
    {
     "data": {
      "text/latex": [
       "$\\displaystyle \\left[\\begin{matrix}1 & L\\\\0 & 1\\end{matrix}\\right]$"
      ],
      "text/plain": [
       "Matrix([\n",
       "[1, L],\n",
       "[0, 1]])"
      ]
     },
     "execution_count": 82,
     "metadata": {},
     "output_type": "execute_result"
    }
   ],
   "source": [
    "Drift_long"
   ]
  },
  {
   "cell_type": "code",
   "execution_count": 83,
   "id": "manual-peeing",
   "metadata": {},
   "outputs": [
    {
     "data": {
      "text/latex": [
       "$\\displaystyle \\left[\\begin{matrix}1 & \\ell\\\\0 & 1\\end{matrix}\\right]$"
      ],
      "text/plain": [
       "Matrix([\n",
       "[1, ell],\n",
       "[0,   1]])"
      ]
     },
     "execution_count": 83,
     "metadata": {},
     "output_type": "execute_result"
    }
   ],
   "source": [
    "Drift_short"
   ]
  },
  {
   "cell_type": "code",
   "execution_count": 84,
   "id": "liquid-commander",
   "metadata": {},
   "outputs": [
    {
     "data": {
      "text/latex": [
       "$\\displaystyle \\left[\\begin{matrix}1 & 0\\\\- 1/f & 1\\end{matrix}\\right]$"
      ],
      "text/plain": [
       "Matrix([\n",
       "[   1, 0],\n",
       "[-1/f, 1]])"
      ]
     },
     "execution_count": 84,
     "metadata": {},
     "output_type": "execute_result"
    }
   ],
   "source": [
    "MF"
   ]
  },
  {
   "cell_type": "code",
   "execution_count": 85,
   "id": "willing-cycling",
   "metadata": {},
   "outputs": [
    {
     "data": {
      "text/latex": [
       "$\\displaystyle \\left[\\begin{matrix}1 & 0\\\\1/f & 1\\end{matrix}\\right]$"
      ],
      "text/plain": [
       "Matrix([\n",
       "[  1, 0],\n",
       "[1/f, 1]])"
      ]
     },
     "execution_count": 85,
     "metadata": {},
     "output_type": "execute_result"
    }
   ],
   "source": [
    "MD"
   ]
  },
  {
   "cell_type": "code",
   "execution_count": 86,
   "id": "sacred-associate",
   "metadata": {},
   "outputs": [],
   "source": [
    "# Construct complete transfer map for both situations.\n",
    "\n",
    "M1 = MD @ Drift_short @ MF @ Drift_long\n",
    "M2 = MF @ Drift_short @ MD @ Drift_long"
   ]
  },
  {
   "cell_type": "code",
   "execution_count": 87,
   "id": "extraordinary-sequence",
   "metadata": {},
   "outputs": [
    {
     "data": {
      "text/latex": [
       "$\\displaystyle \\left[\\begin{matrix}- 1/f \\ell + 1 & L \\left(- 1/f \\ell + 1\\right) + \\ell\\\\- 1/f \\left(1/f \\ell + 1\\right) + 1/f & 1/f \\ell + L \\left(- 1/f \\left(1/f \\ell + 1\\right) + 1/f\\right) + 1\\end{matrix}\\right]$"
      ],
      "text/plain": [
       "Matrix([\n",
       "[            -1/f*ell + 1,                     L*(-1/f*ell + 1) + ell],\n",
       "[-1/f*(1/f*ell + 1) + 1/f, 1/f*ell + L*(-1/f*(1/f*ell + 1) + 1/f) + 1]])"
      ]
     },
     "execution_count": 87,
     "metadata": {},
     "output_type": "execute_result"
    }
   ],
   "source": [
    "M1"
   ]
  },
  {
   "cell_type": "code",
   "execution_count": 88,
   "id": "falling-butter",
   "metadata": {
    "scrolled": true
   },
   "outputs": [
    {
     "data": {
      "text/latex": [
       "$\\displaystyle \\left[\\begin{matrix}1/f \\ell + 1 & L \\left(1/f \\ell + 1\\right) + \\ell\\\\1/f \\left(- 1/f \\ell + 1\\right) - 1/f & - 1/f \\ell + L \\left(1/f \\left(- 1/f \\ell + 1\\right) - 1/f\\right) + 1\\end{matrix}\\right]$"
      ],
      "text/plain": [
       "Matrix([\n",
       "[             1/f*ell + 1,                       L*(1/f*ell + 1) + ell],\n",
       "[1/f*(-1/f*ell + 1) - 1/f, -1/f*ell + L*(1/f*(-1/f*ell + 1) - 1/f) + 1]])"
      ]
     },
     "execution_count": 88,
     "metadata": {},
     "output_type": "execute_result"
    }
   ],
   "source": [
    "M2"
   ]
  },
  {
   "cell_type": "markdown",
   "id": "novel-petroleum",
   "metadata": {},
   "source": [
    "## Trace Results for thin lens"
   ]
  },
  {
   "cell_type": "code",
   "execution_count": 89,
   "id": "compound-question",
   "metadata": {},
   "outputs": [],
   "source": [
    "Trace_M1 = M1[0,0] + M1[1,1]\n",
    "Trace_M2 = M2[0,0] + M2[1,1]"
   ]
  },
  {
   "cell_type": "code",
   "execution_count": 90,
   "id": "quantitative-facing",
   "metadata": {},
   "outputs": [
    {
     "data": {
      "text/latex": [
       "$\\displaystyle - 1/f^{2} L \\ell + 2$"
      ],
      "text/plain": [
       "-1/f**2*L*ell + 2"
      ]
     },
     "execution_count": 90,
     "metadata": {},
     "output_type": "execute_result"
    }
   ],
   "source": [
    "Trace_M1.simplify()"
   ]
  },
  {
   "cell_type": "code",
   "execution_count": 91,
   "id": "clean-article",
   "metadata": {},
   "outputs": [
    {
     "data": {
      "text/latex": [
       "$\\displaystyle - 1/f^{2} L \\ell + 2$"
      ],
      "text/plain": [
       "-1/f**2*L*ell + 2"
      ]
     },
     "execution_count": 91,
     "metadata": {},
     "output_type": "execute_result"
    }
   ],
   "source": [
    "Trace_M2.simplify()"
   ]
  },
  {
   "cell_type": "markdown",
   "id": "potential-professional",
   "metadata": {},
   "source": [
    "## Thick Lens"
   ]
  },
  {
   "cell_type": "markdown",
   "id": "sensitive-welsh",
   "metadata": {},
   "source": [
    "Here the transfer matrices will be recreated for use of thick lens. "
   ]
  },
  {
   "cell_type": "code",
   "execution_count": 92,
   "id": "hairy-somalia",
   "metadata": {},
   "outputs": [],
   "source": [
    "kappa = sy.symbols('kappa')\n",
    "lq = sy.symbols('ell_q')"
   ]
  },
  {
   "cell_type": "code",
   "execution_count": 93,
   "id": "decreased-strength",
   "metadata": {},
   "outputs": [
    {
     "data": {
      "text/latex": [
       "$\\displaystyle \\ell_{q}$"
      ],
      "text/plain": [
       "ell_q"
      ]
     },
     "execution_count": 93,
     "metadata": {},
     "output_type": "execute_result"
    }
   ],
   "source": [
    "lq"
   ]
  },
  {
   "cell_type": "markdown",
   "id": "searching-scheme",
   "metadata": {},
   "source": [
    "Here I create the focusing matrix by assigning the matrix elements m11, m12, m21, and m22"
   ]
  },
  {
   "cell_type": "markdown",
   "id": "automatic-details",
   "metadata": {},
   "source": [
    "### Focusing"
   ]
  },
  {
   "cell_type": "code",
   "execution_count": 94,
   "id": "rocky-linux",
   "metadata": {},
   "outputs": [],
   "source": [
    "m11 = sy.cos(sy.sqrt(kappa)*lq)\n",
    "m12 = sy.sin(sy.sqrt(kappa)*lq)/sy.sqrt(kappa)\n",
    "m21 = -sy.sqrt(kappa)*sy.sin(sy.sqrt(kappa)*lq)\n",
    "m22 = sy.cos(sy.sqrt(kappa)*lq)"
   ]
  },
  {
   "cell_type": "code",
   "execution_count": 95,
   "id": "measured-sentence",
   "metadata": {},
   "outputs": [
    {
     "data": {
      "text/latex": [
       "$\\displaystyle \\cos{\\left(\\ell_{q} \\sqrt{\\kappa} \\right)}$"
      ],
      "text/plain": [
       "cos(ell_q*sqrt(kappa))"
      ]
     },
     "execution_count": 95,
     "metadata": {},
     "output_type": "execute_result"
    }
   ],
   "source": [
    "m11"
   ]
  },
  {
   "cell_type": "code",
   "execution_count": 96,
   "id": "tutorial-karaoke",
   "metadata": {},
   "outputs": [
    {
     "data": {
      "text/latex": [
       "$\\displaystyle \\frac{\\sin{\\left(\\ell_{q} \\sqrt{\\kappa} \\right)}}{\\sqrt{\\kappa}}$"
      ],
      "text/plain": [
       "sin(ell_q*sqrt(kappa))/sqrt(kappa)"
      ]
     },
     "execution_count": 96,
     "metadata": {},
     "output_type": "execute_result"
    }
   ],
   "source": [
    "m12"
   ]
  },
  {
   "cell_type": "code",
   "execution_count": 97,
   "id": "rolled-cornell",
   "metadata": {},
   "outputs": [
    {
     "data": {
      "text/latex": [
       "$\\displaystyle - \\sqrt{\\kappa} \\sin{\\left(\\ell_{q} \\sqrt{\\kappa} \\right)}$"
      ],
      "text/plain": [
       "-sqrt(kappa)*sin(ell_q*sqrt(kappa))"
      ]
     },
     "execution_count": 97,
     "metadata": {},
     "output_type": "execute_result"
    }
   ],
   "source": [
    "m21"
   ]
  },
  {
   "cell_type": "code",
   "execution_count": 98,
   "id": "mysterious-duration",
   "metadata": {},
   "outputs": [
    {
     "data": {
      "text/latex": [
       "$\\displaystyle \\cos{\\left(\\ell_{q} \\sqrt{\\kappa} \\right)}$"
      ],
      "text/plain": [
       "cos(ell_q*sqrt(kappa))"
      ]
     },
     "execution_count": 98,
     "metadata": {},
     "output_type": "execute_result"
    }
   ],
   "source": [
    "m22"
   ]
  },
  {
   "cell_type": "code",
   "execution_count": 99,
   "id": "satisfactory-geneva",
   "metadata": {},
   "outputs": [],
   "source": [
    "Mfoc = sy.Matrix([[m11, m12],[m21,m22]])"
   ]
  },
  {
   "cell_type": "code",
   "execution_count": 100,
   "id": "vulnerable-calibration",
   "metadata": {},
   "outputs": [
    {
     "data": {
      "text/latex": [
       "$\\displaystyle \\left[\\begin{matrix}\\cos{\\left(\\ell_{q} \\sqrt{\\kappa} \\right)} & \\frac{\\sin{\\left(\\ell_{q} \\sqrt{\\kappa} \\right)}}{\\sqrt{\\kappa}}\\\\- \\sqrt{\\kappa} \\sin{\\left(\\ell_{q} \\sqrt{\\kappa} \\right)} & \\cos{\\left(\\ell_{q} \\sqrt{\\kappa} \\right)}\\end{matrix}\\right]$"
      ],
      "text/plain": [
       "Matrix([\n",
       "[             cos(ell_q*sqrt(kappa)), sin(ell_q*sqrt(kappa))/sqrt(kappa)],\n",
       "[-sqrt(kappa)*sin(ell_q*sqrt(kappa)),             cos(ell_q*sqrt(kappa))]])"
      ]
     },
     "execution_count": 100,
     "metadata": {},
     "output_type": "execute_result"
    }
   ],
   "source": [
    "Mfoc"
   ]
  },
  {
   "cell_type": "markdown",
   "id": "circular-turning",
   "metadata": {},
   "source": [
    "### Defocusing"
   ]
  },
  {
   "cell_type": "code",
   "execution_count": 101,
   "id": "generic-continent",
   "metadata": {
    "scrolled": true
   },
   "outputs": [],
   "source": [
    "m11 = sy.cosh(sy.sqrt(sy.Abs(kappa))*lq)\n",
    "m12 = sy.sinh(sy.sqrt(sy.Abs(kappa))*lq) / sy.sqrt(kappa)\n",
    "m21 = -sy.sqrt(sy.Abs(kappa))*sy.sinh(sy.sqrt(sy.Abs(kappa))*lq)\n",
    "m22 = sy.cosh(sy.Abs(sy.sqrt(kappa))*lq)"
   ]
  },
  {
   "cell_type": "code",
   "execution_count": 102,
   "id": "public-spine",
   "metadata": {},
   "outputs": [
    {
     "data": {
      "text/latex": [
       "$\\displaystyle \\cosh{\\left(\\ell_{q} \\sqrt{\\left|{\\kappa}\\right|} \\right)}$"
      ],
      "text/plain": [
       "cosh(ell_q*sqrt(Abs(kappa)))"
      ]
     },
     "execution_count": 102,
     "metadata": {},
     "output_type": "execute_result"
    }
   ],
   "source": [
    "m11"
   ]
  },
  {
   "cell_type": "code",
   "execution_count": 103,
   "id": "binding-paintball",
   "metadata": {},
   "outputs": [
    {
     "data": {
      "text/latex": [
       "$\\displaystyle \\frac{\\sinh{\\left(\\ell_{q} \\sqrt{\\left|{\\kappa}\\right|} \\right)}}{\\sqrt{\\kappa}}$"
      ],
      "text/plain": [
       "sinh(ell_q*sqrt(Abs(kappa)))/sqrt(kappa)"
      ]
     },
     "execution_count": 103,
     "metadata": {},
     "output_type": "execute_result"
    }
   ],
   "source": [
    "m12"
   ]
  },
  {
   "cell_type": "code",
   "execution_count": 104,
   "id": "circular-introduction",
   "metadata": {},
   "outputs": [
    {
     "data": {
      "text/latex": [
       "$\\displaystyle - \\sinh{\\left(\\ell_{q} \\sqrt{\\left|{\\kappa}\\right|} \\right)} \\sqrt{\\left|{\\kappa}\\right|}$"
      ],
      "text/plain": [
       "-sinh(ell_q*sqrt(Abs(kappa)))*sqrt(Abs(kappa))"
      ]
     },
     "execution_count": 104,
     "metadata": {},
     "output_type": "execute_result"
    }
   ],
   "source": [
    "m21"
   ]
  },
  {
   "cell_type": "code",
   "execution_count": 105,
   "id": "collectible-horse",
   "metadata": {},
   "outputs": [
    {
     "data": {
      "text/latex": [
       "$\\displaystyle \\cosh{\\left(\\ell_{q} \\left|{\\sqrt{\\kappa}}\\right| \\right)}$"
      ],
      "text/plain": [
       "cosh(ell_q*Abs(sqrt(kappa)))"
      ]
     },
     "execution_count": 105,
     "metadata": {},
     "output_type": "execute_result"
    }
   ],
   "source": [
    "m22"
   ]
  },
  {
   "cell_type": "code",
   "execution_count": 106,
   "id": "promising-flush",
   "metadata": {},
   "outputs": [],
   "source": [
    "Mdefoc = sy.Matrix([[m11, m12], [m21, m22]])"
   ]
  },
  {
   "cell_type": "code",
   "execution_count": 107,
   "id": "taken-brazil",
   "metadata": {},
   "outputs": [
    {
     "data": {
      "text/latex": [
       "$\\displaystyle \\left[\\begin{matrix}\\cosh{\\left(\\ell_{q} \\sqrt{\\left|{\\kappa}\\right|} \\right)} & \\frac{\\sinh{\\left(\\ell_{q} \\sqrt{\\left|{\\kappa}\\right|} \\right)}}{\\sqrt{\\kappa}}\\\\- \\sinh{\\left(\\ell_{q} \\sqrt{\\left|{\\kappa}\\right|} \\right)} \\sqrt{\\left|{\\kappa}\\right|} & \\cosh{\\left(\\ell_{q} \\left|{\\sqrt{\\kappa}}\\right| \\right)}\\end{matrix}\\right]$"
      ],
      "text/plain": [
       "Matrix([\n",
       "[                  cosh(ell_q*sqrt(Abs(kappa))), sinh(ell_q*sqrt(Abs(kappa)))/sqrt(kappa)],\n",
       "[-sinh(ell_q*sqrt(Abs(kappa)))*sqrt(Abs(kappa)),             cosh(ell_q*Abs(sqrt(kappa)))]])"
      ]
     },
     "execution_count": 107,
     "metadata": {},
     "output_type": "execute_result"
    }
   ],
   "source": [
    "Mdefoc"
   ]
  },
  {
   "cell_type": "markdown",
   "id": "macro-wyoming",
   "metadata": {},
   "source": [
    "### Full Transfer Matrix"
   ]
  },
  {
   "cell_type": "code",
   "execution_count": 128,
   "id": "severe-deployment",
   "metadata": {},
   "outputs": [],
   "source": [
    "M = Mdefoc @ Drift_short @ Mfoc @ Drift_long"
   ]
  },
  {
   "cell_type": "code",
   "execution_count": 129,
   "id": "respective-happiness",
   "metadata": {},
   "outputs": [
    {
     "data": {
      "text/latex": [
       "$\\displaystyle \\left[\\begin{matrix}- \\sqrt{\\kappa} \\left(\\ell \\cosh{\\left(\\ell_{q} \\sqrt{\\left|{\\kappa}\\right|} \\right)} + \\frac{\\sinh{\\left(\\ell_{q} \\sqrt{\\left|{\\kappa}\\right|} \\right)}}{\\sqrt{\\kappa}}\\right) \\sin{\\left(\\ell_{q} \\sqrt{\\kappa} \\right)} + \\cos{\\left(\\ell_{q} \\sqrt{\\kappa} \\right)} \\cosh{\\left(\\ell_{q} \\sqrt{\\left|{\\kappa}\\right|} \\right)} & L \\left(- \\sqrt{\\kappa} \\left(\\ell \\cosh{\\left(\\ell_{q} \\sqrt{\\left|{\\kappa}\\right|} \\right)} + \\frac{\\sinh{\\left(\\ell_{q} \\sqrt{\\left|{\\kappa}\\right|} \\right)}}{\\sqrt{\\kappa}}\\right) \\sin{\\left(\\ell_{q} \\sqrt{\\kappa} \\right)} + \\cos{\\left(\\ell_{q} \\sqrt{\\kappa} \\right)} \\cosh{\\left(\\ell_{q} \\sqrt{\\left|{\\kappa}\\right|} \\right)}\\right) + \\left(\\ell \\cosh{\\left(\\ell_{q} \\sqrt{\\left|{\\kappa}\\right|} \\right)} + \\frac{\\sinh{\\left(\\ell_{q} \\sqrt{\\left|{\\kappa}\\right|} \\right)}}{\\sqrt{\\kappa}}\\right) \\cos{\\left(\\ell_{q} \\sqrt{\\kappa} \\right)} + \\frac{\\sin{\\left(\\ell_{q} \\sqrt{\\kappa} \\right)} \\cosh{\\left(\\ell_{q} \\sqrt{\\left|{\\kappa}\\right|} \\right)}}{\\sqrt{\\kappa}}\\\\- \\sqrt{\\kappa} \\left(- \\ell \\sinh{\\left(\\ell_{q} \\sqrt{\\left|{\\kappa}\\right|} \\right)} \\sqrt{\\left|{\\kappa}\\right|} + \\cosh{\\left(\\ell_{q} \\left|{\\sqrt{\\kappa}}\\right| \\right)}\\right) \\sin{\\left(\\ell_{q} \\sqrt{\\kappa} \\right)} - \\cos{\\left(\\ell_{q} \\sqrt{\\kappa} \\right)} \\sinh{\\left(\\ell_{q} \\sqrt{\\left|{\\kappa}\\right|} \\right)} \\sqrt{\\left|{\\kappa}\\right|} & L \\left(- \\sqrt{\\kappa} \\left(- \\ell \\sinh{\\left(\\ell_{q} \\sqrt{\\left|{\\kappa}\\right|} \\right)} \\sqrt{\\left|{\\kappa}\\right|} + \\cosh{\\left(\\ell_{q} \\left|{\\sqrt{\\kappa}}\\right| \\right)}\\right) \\sin{\\left(\\ell_{q} \\sqrt{\\kappa} \\right)} - \\cos{\\left(\\ell_{q} \\sqrt{\\kappa} \\right)} \\sinh{\\left(\\ell_{q} \\sqrt{\\left|{\\kappa}\\right|} \\right)} \\sqrt{\\left|{\\kappa}\\right|}\\right) + \\left(- \\ell \\sinh{\\left(\\ell_{q} \\sqrt{\\left|{\\kappa}\\right|} \\right)} \\sqrt{\\left|{\\kappa}\\right|} + \\cosh{\\left(\\ell_{q} \\left|{\\sqrt{\\kappa}}\\right| \\right)}\\right) \\cos{\\left(\\ell_{q} \\sqrt{\\kappa} \\right)} - \\frac{\\sin{\\left(\\ell_{q} \\sqrt{\\kappa} \\right)} \\sinh{\\left(\\ell_{q} \\sqrt{\\left|{\\kappa}\\right|} \\right)} \\sqrt{\\left|{\\kappa}\\right|}}{\\sqrt{\\kappa}}\\end{matrix}\\right]$"
      ],
      "text/plain": [
       "Matrix([\n",
       "[                       -sqrt(kappa)*(ell*cosh(ell_q*sqrt(Abs(kappa))) + sinh(ell_q*sqrt(Abs(kappa)))/sqrt(kappa))*sin(ell_q*sqrt(kappa)) + cos(ell_q*sqrt(kappa))*cosh(ell_q*sqrt(Abs(kappa))),                                               L*(-sqrt(kappa)*(ell*cosh(ell_q*sqrt(Abs(kappa))) + sinh(ell_q*sqrt(Abs(kappa)))/sqrt(kappa))*sin(ell_q*sqrt(kappa)) + cos(ell_q*sqrt(kappa))*cosh(ell_q*sqrt(Abs(kappa)))) + (ell*cosh(ell_q*sqrt(Abs(kappa))) + sinh(ell_q*sqrt(Abs(kappa)))/sqrt(kappa))*cos(ell_q*sqrt(kappa)) + sin(ell_q*sqrt(kappa))*cosh(ell_q*sqrt(Abs(kappa)))/sqrt(kappa)],\n",
       "[-sqrt(kappa)*(-ell*sinh(ell_q*sqrt(Abs(kappa)))*sqrt(Abs(kappa)) + cosh(ell_q*Abs(sqrt(kappa))))*sin(ell_q*sqrt(kappa)) - cos(ell_q*sqrt(kappa))*sinh(ell_q*sqrt(Abs(kappa)))*sqrt(Abs(kappa)), L*(-sqrt(kappa)*(-ell*sinh(ell_q*sqrt(Abs(kappa)))*sqrt(Abs(kappa)) + cosh(ell_q*Abs(sqrt(kappa))))*sin(ell_q*sqrt(kappa)) - cos(ell_q*sqrt(kappa))*sinh(ell_q*sqrt(Abs(kappa)))*sqrt(Abs(kappa))) + (-ell*sinh(ell_q*sqrt(Abs(kappa)))*sqrt(Abs(kappa)) + cosh(ell_q*Abs(sqrt(kappa))))*cos(ell_q*sqrt(kappa)) - sin(ell_q*sqrt(kappa))*sinh(ell_q*sqrt(Abs(kappa)))*sqrt(Abs(kappa))/sqrt(kappa)]])"
      ]
     },
     "execution_count": 129,
     "metadata": {},
     "output_type": "execute_result"
    }
   ],
   "source": [
    "M"
   ]
  },
  {
   "cell_type": "code",
   "execution_count": 130,
   "id": "excessive-costume",
   "metadata": {},
   "outputs": [],
   "source": [
    "t1 = (M[0,0] + M[1,1]).simplify()"
   ]
  },
  {
   "cell_type": "code",
   "execution_count": 131,
   "id": "pressed-brooks",
   "metadata": {},
   "outputs": [],
   "source": [
    "M = Mfoc @ Drift_short @ Mdefoc @ Drift_long"
   ]
  },
  {
   "cell_type": "code",
   "execution_count": 132,
   "id": "illegal-shepherd",
   "metadata": {},
   "outputs": [
    {
     "data": {
      "text/latex": [
       "$\\displaystyle \\left[\\begin{matrix}- \\left(\\ell \\cos{\\left(\\ell_{q} \\sqrt{\\kappa} \\right)} + \\frac{\\sin{\\left(\\ell_{q} \\sqrt{\\kappa} \\right)}}{\\sqrt{\\kappa}}\\right) \\sinh{\\left(\\ell_{q} \\sqrt{\\left|{\\kappa}\\right|} \\right)} \\sqrt{\\left|{\\kappa}\\right|} + \\cos{\\left(\\ell_{q} \\sqrt{\\kappa} \\right)} \\cosh{\\left(\\ell_{q} \\sqrt{\\left|{\\kappa}\\right|} \\right)} & L \\left(- \\left(\\ell \\cos{\\left(\\ell_{q} \\sqrt{\\kappa} \\right)} + \\frac{\\sin{\\left(\\ell_{q} \\sqrt{\\kappa} \\right)}}{\\sqrt{\\kappa}}\\right) \\sinh{\\left(\\ell_{q} \\sqrt{\\left|{\\kappa}\\right|} \\right)} \\sqrt{\\left|{\\kappa}\\right|} + \\cos{\\left(\\ell_{q} \\sqrt{\\kappa} \\right)} \\cosh{\\left(\\ell_{q} \\sqrt{\\left|{\\kappa}\\right|} \\right)}\\right) + \\left(\\ell \\cos{\\left(\\ell_{q} \\sqrt{\\kappa} \\right)} + \\frac{\\sin{\\left(\\ell_{q} \\sqrt{\\kappa} \\right)}}{\\sqrt{\\kappa}}\\right) \\cosh{\\left(\\ell_{q} \\left|{\\sqrt{\\kappa}}\\right| \\right)} + \\frac{\\cos{\\left(\\ell_{q} \\sqrt{\\kappa} \\right)} \\sinh{\\left(\\ell_{q} \\sqrt{\\left|{\\kappa}\\right|} \\right)}}{\\sqrt{\\kappa}}\\\\- \\sqrt{\\kappa} \\sin{\\left(\\ell_{q} \\sqrt{\\kappa} \\right)} \\cosh{\\left(\\ell_{q} \\sqrt{\\left|{\\kappa}\\right|} \\right)} - \\left(- \\ell \\sqrt{\\kappa} \\sin{\\left(\\ell_{q} \\sqrt{\\kappa} \\right)} + \\cos{\\left(\\ell_{q} \\sqrt{\\kappa} \\right)}\\right) \\sinh{\\left(\\ell_{q} \\sqrt{\\left|{\\kappa}\\right|} \\right)} \\sqrt{\\left|{\\kappa}\\right|} & L \\left(- \\sqrt{\\kappa} \\sin{\\left(\\ell_{q} \\sqrt{\\kappa} \\right)} \\cosh{\\left(\\ell_{q} \\sqrt{\\left|{\\kappa}\\right|} \\right)} - \\left(- \\ell \\sqrt{\\kappa} \\sin{\\left(\\ell_{q} \\sqrt{\\kappa} \\right)} + \\cos{\\left(\\ell_{q} \\sqrt{\\kappa} \\right)}\\right) \\sinh{\\left(\\ell_{q} \\sqrt{\\left|{\\kappa}\\right|} \\right)} \\sqrt{\\left|{\\kappa}\\right|}\\right) + \\left(- \\ell \\sqrt{\\kappa} \\sin{\\left(\\ell_{q} \\sqrt{\\kappa} \\right)} + \\cos{\\left(\\ell_{q} \\sqrt{\\kappa} \\right)}\\right) \\cosh{\\left(\\ell_{q} \\left|{\\sqrt{\\kappa}}\\right| \\right)} - \\sin{\\left(\\ell_{q} \\sqrt{\\kappa} \\right)} \\sinh{\\left(\\ell_{q} \\sqrt{\\left|{\\kappa}\\right|} \\right)}\\end{matrix}\\right]$"
      ],
      "text/plain": [
       "Matrix([\n",
       "[             -(ell*cos(ell_q*sqrt(kappa)) + sin(ell_q*sqrt(kappa))/sqrt(kappa))*sinh(ell_q*sqrt(Abs(kappa)))*sqrt(Abs(kappa)) + cos(ell_q*sqrt(kappa))*cosh(ell_q*sqrt(Abs(kappa))),   L*(-(ell*cos(ell_q*sqrt(kappa)) + sin(ell_q*sqrt(kappa))/sqrt(kappa))*sinh(ell_q*sqrt(Abs(kappa)))*sqrt(Abs(kappa)) + cos(ell_q*sqrt(kappa))*cosh(ell_q*sqrt(Abs(kappa)))) + (ell*cos(ell_q*sqrt(kappa)) + sin(ell_q*sqrt(kappa))/sqrt(kappa))*cosh(ell_q*Abs(sqrt(kappa))) + cos(ell_q*sqrt(kappa))*sinh(ell_q*sqrt(Abs(kappa)))/sqrt(kappa)],\n",
       "[-sqrt(kappa)*sin(ell_q*sqrt(kappa))*cosh(ell_q*sqrt(Abs(kappa))) - (-ell*sqrt(kappa)*sin(ell_q*sqrt(kappa)) + cos(ell_q*sqrt(kappa)))*sinh(ell_q*sqrt(Abs(kappa)))*sqrt(Abs(kappa)), L*(-sqrt(kappa)*sin(ell_q*sqrt(kappa))*cosh(ell_q*sqrt(Abs(kappa))) - (-ell*sqrt(kappa)*sin(ell_q*sqrt(kappa)) + cos(ell_q*sqrt(kappa)))*sinh(ell_q*sqrt(Abs(kappa)))*sqrt(Abs(kappa))) + (-ell*sqrt(kappa)*sin(ell_q*sqrt(kappa)) + cos(ell_q*sqrt(kappa)))*cosh(ell_q*Abs(sqrt(kappa))) - sin(ell_q*sqrt(kappa))*sinh(ell_q*sqrt(Abs(kappa)))]])"
      ]
     },
     "execution_count": 132,
     "metadata": {},
     "output_type": "execute_result"
    }
   ],
   "source": [
    "M"
   ]
  },
  {
   "cell_type": "code",
   "execution_count": 133,
   "id": "piano-documentary",
   "metadata": {},
   "outputs": [],
   "source": [
    "t2 = (M[0,0] + M[1,1]).simplify()"
   ]
  },
  {
   "cell_type": "code",
   "execution_count": 134,
   "id": "preceding-pattern",
   "metadata": {},
   "outputs": [
    {
     "data": {
      "text/plain": [
       "False"
      ]
     },
     "execution_count": 134,
     "metadata": {},
     "output_type": "execute_result"
    }
   ],
   "source": [
    "t2 == t1"
   ]
  },
  {
   "cell_type": "code",
   "execution_count": null,
   "id": "forbidden-catalyst",
   "metadata": {},
   "outputs": [],
   "source": []
  }
 ],
 "metadata": {
  "kernelspec": {
   "display_name": "Python 3",
   "language": "python",
   "name": "python3"
  },
  "language_info": {
   "codemirror_mode": {
    "name": "ipython",
    "version": 3
   },
   "file_extension": ".py",
   "mimetype": "text/x-python",
   "name": "python",
   "nbconvert_exporter": "python",
   "pygments_lexer": "ipython3",
   "version": "3.8.5"
  }
 },
 "nbformat": 4,
 "nbformat_minor": 5
}
