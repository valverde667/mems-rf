{
 "cells": [
  {
   "cell_type": "code",
   "execution_count": 10,
   "metadata": {},
   "outputs": [
    {
     "data": {
      "application/vnd.jupyter.widget-view+json": {
       "model_id": "0f0b3583ebe84a9b85eddcd576d5f9ce",
       "version_major": 2,
       "version_minor": 0
      },
      "text/html": [
       "<p>Failed to display Jupyter Widget of type <code>interactive</code>.</p>\n",
       "<p>\n",
       "  If you're reading this message in the Jupyter Notebook or JupyterLab Notebook, it may mean\n",
       "  that the widgets JavaScript is still loading. If this message persists, it\n",
       "  likely means that the widgets JavaScript library is either not installed or\n",
       "  not enabled. See the <a href=\"https://ipywidgets.readthedocs.io/en/stable/user_install.html\">Jupyter\n",
       "  Widgets Documentation</a> for setup instructions.\n",
       "</p>\n",
       "<p>\n",
       "  If you're reading this message in another frontend (for example, a static\n",
       "  rendering on GitHub or <a href=\"https://nbviewer.jupyter.org/\">NBViewer</a>),\n",
       "  it may mean that your frontend doesn't currently support widgets.\n",
       "</p>\n"
      ],
      "text/plain": [
       "interactive(children=(IntSlider(value=8, description='num_RF', max=24, min=-8), FloatSlider(value=13560000.0, description='freq', max=40680000.0, min=-13560000.0), IntSlider(value=1000, description='V_max', max=3000, min=-1000), FloatSlider(value=0.8, description='V_gained', max=2.4000000000000004, min=-0.8), FloatSlider(value=10000.0, description='e_inject', max=30000.0, min=-10000.0), IntSlider(value=40, description='mass', max=120, min=-40), IntSlider(value=1, description='charge', max=3, min=-1), IntSlider(value=40, description='mass2', max=120, min=-40), IntSlider(value=1, description='charge2', max=3, min=-1), IntSlider(value=1, description='n', max=3, min=-1), Output()), _dom_classes=('widget-interact',))"
      ]
     },
     "metadata": {},
     "output_type": "display_data"
    }
   ],
   "source": [
    "from ipywidgets import interact, interactive, fixed, interact_manual\n",
    "import ipywidgets as widgets\n",
    "from IPython.display import display\n",
    "import matplotlib.pyplot as plt\n",
    "import numpy as np\n",
    "\n",
    "fun_charge = 1.601e-19\n",
    "amu = 1.66056e-27\n",
    "\n",
    "def distances(num_RF, freq, V_max, V_gained, e_inject, mass, charge):\n",
    "    #find energies after each RF gap\n",
    "    energies = [e_inject+charge*V_gained*V_max*i for i in range(num_RF)]\n",
    "\n",
    "    #find distances between RF gaps\n",
    "    distances = [np.sqrt(energy*charge*fun_charge/(2*mass*amu))*1/freq for energy in energies]\n",
    "    return [energies, distances]\n",
    "\n",
    "def draw_latice(num_RF, freq, V_max, V_gained, e_inject, mass, charge, mass2, charge2, n):\n",
    "    #draw the energy and RF gap position\n",
    "    d_and_e = distances(num_RF, freq, V_max, V_gained, e_inject, mass, charge)\n",
    "\n",
    "    t_offset = np.arcsin(V_gained)/(2*np.pi*freq*n)-d_and_e[1][0]/np.sqrt(2*e_inject*charge*fun_charge/(mass*amu))\n",
    "    energies2 = species_2_energies(d_and_e[1], freq, V_max, e_inject, mass2, charge2, t_offset, n)\n",
    "    energies2 = energies2[0:-1]\n",
    "\n",
    "    total_distances = np.cumsum(d_and_e[1])\n",
    "    total_distances = np.append([0],total_distances[0:-1])\n",
    "    energies = d_and_e[0]\n",
    "\n",
    "    print('distances:',total_distances)\n",
    "    print('energies:',energies)\n",
    "    print('energies2:',energies2)\n",
    "\n",
    "    plt.xlabel('Total Distances')\n",
    "    plt.ylabel('Energies')\n",
    "    plt.step(total_distances, energies, color='green', where='post')\n",
    "    plt.step(total_distances, energies2, color='red', where='post')\n",
    "    \n",
    "    plt.show()\n",
    "\n",
    "def species_2_energies(distances, freq, V_max, e_inject, mass, charge, t_offset, n):\n",
    "    energies = [e_inject]\n",
    "    energy = e_inject\n",
    "    time = 0\n",
    "    for d, i in zip(distances, range(len(distances))):\n",
    "        velocity = np.sqrt(2*energy*fun_charge/(mass*amu))\n",
    "        time = time + d/velocity\n",
    "        energy = energy+(charge*V_max*np.sin(2*np.pi*freq*n*(time+t_offset)))*(-1)**(i)\n",
    "        energies.append(energy)\n",
    "    return energies\n",
    "\n",
    "#drawing = interact(draw_latice, num_RF=30, freq=20e6, V_max=1000, V_gained=.8, e_inject=20e3, mass=20, charge=1, mass2=20, charge2=1, n=1)\n",
    "drawing = interact(draw_latice, num_RF=8, freq=13.56e6, V_max=1000, V_gained=.8, e_inject=10e3, mass=40, charge=1, mass2=40, charge2=1, n=1)\n"
   ]
  },
  {
   "cell_type": "code",
   "execution_count": 11,
   "metadata": {},
   "outputs": [
    {
     "data": {
      "text/plain": [
       "[[10000.0, 10095.0, 10190.0, 10285.0, 10380.0, 10475.0, 10570.0, 10665.0],\n",
       " [0.008095873186519147,\n",
       "  0.008134237683851856,\n",
       "  0.008172422085440247,\n",
       "  0.008210428904009059,\n",
       "  0.008248260594390995,\n",
       "  0.008285919555377013,\n",
       "  0.008323408131491275,\n",
       "  0.008360728614694475]]"
      ]
     },
     "execution_count": 11,
     "metadata": {},
     "output_type": "execute_result"
    }
   ],
   "source": [
    "distances(8, 13.56e6, 100, 0.95, 10e3, 40,1)"
   ]
  },
  {
   "cell_type": "code",
   "execution_count": null,
   "metadata": {},
   "outputs": [],
   "source": []
  }
 ],
 "metadata": {
  "kernelspec": {
   "display_name": "Python 3",
   "language": "python",
   "name": "python3"
  },
  "language_info": {
   "codemirror_mode": {
    "name": "ipython",
    "version": 3
   },
   "file_extension": ".py",
   "mimetype": "text/x-python",
   "name": "python",
   "nbconvert_exporter": "python",
   "pygments_lexer": "ipython3",
   "version": "3.6.4"
  }
 },
 "nbformat": 4,
 "nbformat_minor": 2
}
